{
 "cells": [
  {
   "cell_type": "code",
   "execution_count": 17,
   "id": "6abd174b-dea5-4ba3-b713-967a5399918c",
   "metadata": {},
   "outputs": [
    {
     "name": "stdin",
     "output_type": "stream",
     "text": [
      "Enter the number: 52452\n"
     ]
    },
    {
     "name": "stdout",
     "output_type": "stream",
     "text": [
      "The Number is Even\n"
     ]
    },
    {
     "data": {
      "text/plain": [
       "'The Number is Even'"
      ]
     },
     "execution_count": 17,
     "metadata": {},
     "output_type": "execute_result"
    }
   ],
   "source": [
    "def evenodd():\n",
    "   number=int(input(\"Enter the number:\"))\n",
    "   if ((number % 2)==0):\n",
    "        print(\"The Number is Even\")\n",
    "        message=\"The Number is Even\"\n",
    "   else:\n",
    "        print(\"The Number is odd\")\n",
    "        message=\"The Number is odd\"\n",
    "   return message\n",
    "evenodd()"
   ]
  },
  {
   "cell_type": "code",
   "execution_count": 42,
   "id": "99e0ea9a-14bc-494e-a247-0fdc81beb441",
   "metadata": {},
   "outputs": [
    {
     "name": "stdin",
     "output_type": "stream",
     "text": [
      "Enter your age: 25\n",
      "Enter your Gender (male/female):  male\n"
     ]
    },
    {
     "name": "stdout",
     "output_type": "stream",
     "text": [
      "Eligible\n"
     ]
    },
    {
     "data": {
      "text/plain": [
       "'Eligible'"
      ]
     },
     "execution_count": 42,
     "metadata": {},
     "output_type": "execute_result"
    }
   ],
   "source": [
    "def marriage_age():\n",
    "   age=int(input(\"Enter your age:\"))\n",
    "   gender=input(\"Enter your Gender (male/female): \")\n",
    "   if age > 21 and gender.lower() == \"male\":\n",
    "        print(\"Eligible\")\n",
    "        message=\"Eligible\"\n",
    "   elif age > 18 and gender.lower() == \"female\": \n",
    "        print(\"Eligible\")\n",
    "        message=\"Eligible\"\n",
    "   else:\n",
    "        print(\"Not eligible\")\n",
    "        message=\"Not eigible\"\n",
    "   return message\n",
    "marriage_age()\n",
    "\n",
    "\n",
    "         \n",
    "   \n",
    "        \n",
    "          "
   ]
  },
  {
   "cell_type": "code",
   "execution_count": 118,
   "id": "de97e910-9550-4b10-b201-a1843f48b7d9",
   "metadata": {},
   "outputs": [
    {
     "name": "stdout",
     "output_type": "stream",
     "text": [
      "Subfields in AI are:\n",
      "Machine learning\n",
      "Neural networks\n",
      "Vision\n",
      "Robotics\n",
      "Speech processing\n",
      "Natural Language processing\n"
     ]
    }
   ],
   "source": [
    "def subfields():\n",
    "    subfields_list=[\"Machine learning\",\"Neural networks\",\"Vision\",\"Robotics\",\"Speech processing\",\"Natural Language processing\"]\n",
    "    print(\"Subfields in AI are:\")\n",
    "    for fields in subfields_list:\n",
    "     print(fields)\n",
    "subfields()"
   ]
  },
  {
   "cell_type": "code",
   "execution_count": null,
   "id": "3f87b9eb-6afd-4fc8-98f5-578ba42121d2",
   "metadata": {},
   "outputs": [],
   "source": [
    "def triangle():\n",
    "    Height=int(input(\"Height\"))\n",
    "    Breadth=int(input(\"Breadth\"))\n",
    "    Area=(Height*Breadth)/2\n",
    "    print(\"Area of the triangle:\", Area)\n",
    "    Height1=int(input(\"Height1\"))\n",
    "    Height2=int(input(\"Height2\"))\n",
    "    Breadth=int(input(\"Breadth\"))\n",
    "    Perimeter= Height1+Height2+Breadth\n",
    "    print(\"Perimeter of the triangle:\", Perimeter)\n",
    "    return Perimeter\n",
    "triangle()"
   ]
  },
  {
   "cell_type": "code",
   "execution_count": 101,
   "id": "d1f99969-93b1-48ae-b8ef-1c368ead9c75",
   "metadata": {},
   "outputs": [
    {
     "name": "stdin",
     "output_type": "stream",
     "text": [
      "Subject1: 97\n",
      "Subject2: 89\n",
      "Subject3: 96\n",
      "Subject4: 85\n",
      "Subject5: 98\n"
     ]
    },
    {
     "name": "stdout",
     "output_type": "stream",
     "text": [
      "Total: 465\n",
      "Percentage: 93.0\n"
     ]
    },
    {
     "data": {
      "text/plain": [
       "93.0"
      ]
     },
     "execution_count": 101,
     "metadata": {},
     "output_type": "execute_result"
    }
   ],
   "source": [
    "def markscored():\n",
    "    subject1=int(input(\"Subject1:\"))\n",
    "    subject2=int(input(\"Subject2:\"))\n",
    "    subject3=int(input(\"Subject3:\"))\n",
    "    subject4=int(input(\"Subject4:\"))\n",
    "    subject5=int(input(\"Subject5:\"))\n",
    "    Total=(subject1+subject2+subject3+subject4+subject5)\n",
    "    print(\"Total:\",Total)\n",
    "    percentage=Total/5\n",
    "    print(\"Percentage:\", percentage)\n",
    "    return percentage\n",
    "markscored()\n",
    "                 "
   ]
  },
  {
   "cell_type": "code",
   "execution_count": null,
   "id": "be810f53-0af2-4f25-914c-77dc3b773616",
   "metadata": {},
   "outputs": [],
   "source": []
  }
 ],
 "metadata": {
  "kernelspec": {
   "display_name": "Python 3 (ipykernel)",
   "language": "python",
   "name": "python3"
  },
  "language_info": {
   "codemirror_mode": {
    "name": "ipython",
    "version": 3
   },
   "file_extension": ".py",
   "mimetype": "text/x-python",
   "name": "python",
   "nbconvert_exporter": "python",
   "pygments_lexer": "ipython3",
   "version": "3.12.4"
  }
 },
 "nbformat": 4,
 "nbformat_minor": 5
}
