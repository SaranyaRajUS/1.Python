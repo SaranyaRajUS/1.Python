{
 "cells": [
  {
   "cell_type": "code",
   "execution_count": 10,
   "id": "b4d2048b-069f-404b-88fd-522311d16008",
   "metadata": {},
   "outputs": [
    {
     "name": "stdout",
     "output_type": "stream",
     "text": [
      "Subfields in AI are:\n",
      "Machine learning\n",
      "Neural networks\n",
      "Vision\n",
      "Robotics\n",
      "Speech processing\n",
      "Natural Language processing\n"
     ]
    }
   ],
   "source": [
    "class SubfieldsInAI:\n",
    "    def subfields():\n",
    "        subfields_list=[\"Machine learning\",\"Neural networks\",\"Vision\",\"Robotics\",\"Speech processing\",\"Natural Language processing\"]\n",
    "        print(\"Subfields in AI are:\")\n",
    "        for fields in subfields_list:\n",
    "            print(fields)\n",
    "SubfieldsInAI.subfields()"
   ]
  },
  {
   "cell_type": "code",
   "execution_count": 15,
   "id": "4c7a7228-f67c-40a6-aecc-0a073294570b",
   "metadata": {},
   "outputs": [
    {
     "name": "stdin",
     "output_type": "stream",
     "text": [
      "Enter the number: 52452\n"
     ]
    },
    {
     "name": "stdout",
     "output_type": "stream",
     "text": [
      "52452 is even number\n"
     ]
    }
   ],
   "source": [
    "class oddeven:\n",
    "    def oddeven():\n",
    "        num=int(input(\"Enter the number:\"))\n",
    "        if (num % 2) == 0:\n",
    "             print(num,\"is even number\")\n",
    "        else:\n",
    "             print(num,\"is odd number\")\n",
    "oddeven.oddeven()"
   ]
  },
  {
   "cell_type": "code",
   "execution_count": 24,
   "id": "c514a3b9-23d6-42c5-a79b-d54a665507fd",
   "metadata": {},
   "outputs": [
    {
     "name": "stdin",
     "output_type": "stream",
     "text": [
      "Enter your age: 25\n",
      "Enter your Gender (male/female):  Female\n"
     ]
    },
    {
     "name": "stdout",
     "output_type": "stream",
     "text": [
      "Eligible\n"
     ]
    }
   ],
   "source": [
    "class Eligibilityformarriage:\n",
    "   def eligible():\n",
    "       age=int(input(\"Enter your age:\"))\n",
    "       gender=input(\"Enter your Gender (male/female): \")\n",
    "       if age > 21 and gender.lower() == \"male\":\n",
    "            print(\"Eligible\")\n",
    "            message=\"Eligible\"\n",
    "       elif age > 18 and gender.lower() == \"female\": \n",
    "            print(\"Eligible\")\n",
    "            message=\"Eligible\"\n",
    "       else:\n",
    "            print(\"Not eligible\")\n",
    "            message=\"Not eigible\"\n",
    "Eligibilityformarriage.eligible()\n"
   ]
  },
  {
   "cell_type": "code",
   "execution_count": 27,
   "id": "b6111058-f5b0-4b94-9f08-93d5dd99f3d7",
   "metadata": {},
   "outputs": [
    {
     "name": "stdin",
     "output_type": "stream",
     "text": [
      "Subject1: 95\n",
      "Subject2: 85\n",
      "Subject3: 96\n",
      "Subject4: 87\n",
      "Subject5: 93\n"
     ]
    },
    {
     "name": "stdout",
     "output_type": "stream",
     "text": [
      "Total: 456\n",
      "Percentage: 91.2\n"
     ]
    }
   ],
   "source": [
    "class Findpercentage:\n",
    "    def markscored():\n",
    "        subject1=int(input(\"Subject1:\"))\n",
    "        subject2=int(input(\"Subject2:\"))\n",
    "        subject3=int(input(\"Subject3:\"))\n",
    "        subject4=int(input(\"Subject4:\"))\n",
    "        subject5=int(input(\"Subject5:\"))\n",
    "        Total=(subject1+subject2+subject3+subject4+subject5)\n",
    "        print(\"Total:\",Total)\n",
    "        percentage=Total/5\n",
    "        print(\"Percentage:\", percentage)\n",
    "Findpercentage.markscored()"
   ]
  },
  {
   "cell_type": "code",
   "execution_count": 30,
   "id": "fb2f5823-1a57-4673-9a28-7c53785db0d2",
   "metadata": {},
   "outputs": [
    {
     "name": "stdin",
     "output_type": "stream",
     "text": [
      "Height 32\n",
      "Breadth 34\n"
     ]
    },
    {
     "name": "stdout",
     "output_type": "stream",
     "text": [
      "Area of the triangle: 544.0\n"
     ]
    },
    {
     "name": "stdin",
     "output_type": "stream",
     "text": [
      "Height1 2\n",
      "Height2 4\n",
      "Breadth 4\n"
     ]
    },
    {
     "name": "stdout",
     "output_type": "stream",
     "text": [
      "Perimeter of the triangle: 10\n"
     ]
    }
   ],
   "source": [
    "class triangle():\n",
    "    def triangle():\n",
    "        Height=int(input(\"Height\"))\n",
    "        Breadth=int(input(\"Breadth\"))\n",
    "        Area=(Height*Breadth)/2\n",
    "        print(\"Area of the triangle:\", Area)\n",
    "        Height1=int(input(\"Height1\"))\n",
    "        Height2=int(input(\"Height2\"))\n",
    "        Breadth=int(input(\"Breadth\"))\n",
    "        Perimeter= Height1+Height2+Breadth\n",
    "        print(\"Perimeter of the triangle:\", Perimeter)\n",
    "triangle.triangle()"
   ]
  },
  {
   "cell_type": "code",
   "execution_count": null,
   "id": "e5c254b4-4bfd-4ea1-9042-25f7d859c3f0",
   "metadata": {},
   "outputs": [],
   "source": []
  }
 ],
 "metadata": {
  "kernelspec": {
   "display_name": "Python 3 (ipykernel)",
   "language": "python",
   "name": "python3"
  },
  "language_info": {
   "codemirror_mode": {
    "name": "ipython",
    "version": 3
   },
   "file_extension": ".py",
   "mimetype": "text/x-python",
   "name": "python",
   "nbconvert_exporter": "python",
   "pygments_lexer": "ipython3",
   "version": "3.12.4"
  }
 },
 "nbformat": 4,
 "nbformat_minor": 5
}
