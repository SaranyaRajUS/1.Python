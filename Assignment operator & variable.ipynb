{
 "cells": [
  {
   "cell_type": "code",
   "execution_count": 1,
   "id": "2b4b9e08-63bc-4fb2-a4a2-88849bc4ee47",
   "metadata": {},
   "outputs": [
    {
     "ename": "NameError",
     "evalue": "name 'num1' is not defined",
     "output_type": "error",
     "traceback": [
      "\u001b[1;31m---------------------------------------------------------------------------\u001b[0m",
      "\u001b[1;31mNameError\u001b[0m                                 Traceback (most recent call last)",
      "Cell \u001b[1;32mIn[1], line 3\u001b[0m\n\u001b[0;32m      1\u001b[0m num\u001b[38;5;241m=\u001b[39m\u001b[38;5;241m10\u001b[39m\n\u001b[0;32m      2\u001b[0m num\u001b[38;5;241m=\u001b[39m\u001b[38;5;241m20\u001b[39m\n\u001b[1;32m----> 3\u001b[0m add\u001b[38;5;241m=\u001b[39mnum1\u001b[38;5;241m+\u001b[39mnum2\n",
      "\u001b[1;31mNameError\u001b[0m: name 'num1' is not defined"
     ]
    }
   ],
   "source": [
    "num=10\n",
    "num=20\n",
    "add=num1+num2"
   ]
  },
  {
   "cell_type": "code",
   "execution_count": 3,
   "id": "6d985fe5-3770-4204-aef0-74b62d456c4e",
   "metadata": {},
   "outputs": [],
   "source": [
    "num1=10\n",
    "num2=20\n",
    "add=num1+num2"
   ]
  },
  {
   "cell_type": "code",
   "execution_count": 25,
   "id": "1239c928-1140-45db-a992-2c2b80c1d72a",
   "metadata": {},
   "outputs": [
    {
     "name": "stdout",
     "output_type": "stream",
     "text": [
      "Add\n",
      "30\n",
      "Sub\n",
      "-10\n",
      "div\n",
      "0.5\n",
      "Mul\n",
      "200\n"
     ]
    }
   ],
   "source": [
    "num1=10\n",
    "num2=20\n",
    "add=num1+num2\n",
    "sub=num1-num2\n",
    "div=num1/num2\n",
    "mul=num1*num2\n",
    "print(\"Add\")\n",
    "print(add)\n",
    "print(\"Sub\")\n",
    "print(sub)\n",
    "print(\"div\")\n",
    "print(div)\n",
    "print(\"Mul\")\n",
    "print(mul)"
   ]
  },
  {
   "cell_type": "code",
   "execution_count": 18,
   "id": "6dd8716d-5abc-46c4-ae61-2e9290ec1884",
   "metadata": {},
   "outputs": [
    {
     "name": "stdout",
     "output_type": "stream",
     "text": [
      "The addition of two numbers\n",
      "Number 1: 50\n",
      "Number 2: 20\n",
      "The Answer= 70\n"
     ]
    }
   ],
   "source": [
    "num1=50\n",
    "num2=20\n",
    "add=num1+num2\n",
    "print(\"The addition of two numbers\")\n",
    "print(\"Number 1:\",num1)\n",
    "print(\"Number 2:\",num2)\n",
    "print(\"The Answer=\",num1+num2)\n"
   ]
  },
  {
   "cell_type": "code",
   "execution_count": 24,
   "id": "cecc160b-2b8e-4387-b49a-70e66dfb07d2",
   "metadata": {},
   "outputs": [
    {
     "name": "stdin",
     "output_type": "stream",
     "text": [
      "Enter the num1: 50\n",
      "Enter the num2: 40\n"
     ]
    },
    {
     "name": "stdout",
     "output_type": "stream",
     "text": [
      "The Answer is\n",
      "70\n"
     ]
    }
   ],
   "source": [
    "num1=50\n",
    "num2=20\n",
    "add=num1+num2\n",
    "num1=int(input(\"Enter the num1:\"))\n",
    "num2=int(input(\"Enter the num2:\"))\n",
    "print(\"The Answer is\")\n",
    "print(add)"
   ]
  },
  {
   "cell_type": "code",
   "execution_count": null,
   "id": "e64d9578-7fe1-46ac-a1b9-7555fcb967a5",
   "metadata": {},
   "outputs": [],
   "source": []
  }
 ],
 "metadata": {
  "kernelspec": {
   "display_name": "Python 3 (ipykernel)",
   "language": "python",
   "name": "python3"
  },
  "language_info": {
   "codemirror_mode": {
    "name": "ipython",
    "version": 3
   },
   "file_extension": ".py",
   "mimetype": "text/x-python",
   "name": "python",
   "nbconvert_exporter": "python",
   "pygments_lexer": "ipython3",
   "version": "3.12.4"
  }
 },
 "nbformat": 4,
 "nbformat_minor": 5
}
