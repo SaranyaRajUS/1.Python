{
 "cells": [
  {
   "cell_type": "code",
   "execution_count": 17,
   "id": "889fe62b-e8f9-4cd8-8960-76f70fdaf9e3",
   "metadata": {},
   "outputs": [
    {
     "name": "stdin",
     "output_type": "stream",
     "text": [
      "Enter your age:  18\n"
     ]
    },
    {
     "name": "stdout",
     "output_type": "stream",
     "text": [
      "ADULT\n"
     ]
    }
   ],
   "source": [
    "\n",
    "def age_category():\n",
    "    age = int(input(\"Enter your age: \")) \n",
    "    if age >= 18:\n",
    "        print(\"ADULT\")\n",
    "    else:\n",
    "        print(\"CHILDREN\")\n",
    "age_category()\n",
    "\n"
   ]
  },
  {
   "cell_type": "code",
   "execution_count": 42,
   "id": "32ffe89a-bd2e-48a9-99c8-067f31895680",
   "metadata": {},
   "outputs": [
    {
     "name": "stdin",
     "output_type": "stream",
     "text": [
      "Enter your age: 55\n"
     ]
    },
    {
     "name": "stdout",
     "output_type": "stream",
     "text": [
      "Senior citizen\n",
      "None\n"
     ]
    }
   ],
   "source": [
    "age=int(input(\"Enter your age:\"))\n",
    "def agecategory():\n",
    "   if(age<18):\n",
    "         print(\"Children\")\n",
    "         cate= \"Children\"\n",
    "   elif(age<35):\n",
    "         print(\"ADULT\")\n",
    "         cate= \"Adult\"\n",
    "   elif(age<50):\n",
    "         print(\"citizen\")\n",
    "         cate= \"citizen\"\n",
    "   else:\n",
    "         print(\"Senior citizen\")\n",
    "         cate= \"Senior citizen\"\n",
    "agecate=agecategory()\n",
    "print (result)\n"
   ]
  },
  {
   "cell_type": "code",
   "execution_count": 47,
   "id": "223940d3-ee4c-4918-a75a-3f29fe64fa7a",
   "metadata": {},
   "outputs": [
    {
     "data": {
      "text/plain": [
       "93.60000000000001"
      ]
     },
     "execution_count": 47,
     "metadata": {},
     "output_type": "execute_result"
    }
   ],
   "source": [
    "def percentage(num1,num2,num3,num4,num5):\n",
    "    percentage=(num1+num2+num3+num4+num5)/500*100\n",
    "    return percentage\n",
    "percentage(98,87,95,95,93)"
   ]
  },
  {
   "cell_type": "code",
   "execution_count": 48,
   "id": "96dd0dec-0c30-40c6-8685-eb890f5bdbe2",
   "metadata": {},
   "outputs": [
    {
     "ename": "SyntaxError",
     "evalue": "unterminated string literal (detected at line 6) (1245608381.py, line 6)",
     "output_type": "error",
     "traceback": [
      "\u001b[1;36m  Cell \u001b[1;32mIn[48], line 6\u001b[1;36m\u001b[0m\n\u001b[1;33m    message='Subject1\"\u001b[0m\n\u001b[1;37m            ^\u001b[0m\n\u001b[1;31mSyntaxError\u001b[0m\u001b[1;31m:\u001b[0m unterminated string literal (detected at line 6)\n"
     ]
    }
   ],
   "source": []
  },
  {
   "cell_type": "code",
   "execution_count": null,
   "id": "c6ecdec9-8d79-4d1d-9941-d091c96e95af",
   "metadata": {},
   "outputs": [],
   "source": []
  }
 ],
 "metadata": {
  "kernelspec": {
   "display_name": "Python 3 (ipykernel)",
   "language": "python",
   "name": "python3"
  },
  "language_info": {
   "codemirror_mode": {
    "name": "ipython",
    "version": 3
   },
   "file_extension": ".py",
   "mimetype": "text/x-python",
   "name": "python",
   "nbconvert_exporter": "python",
   "pygments_lexer": "ipython3",
   "version": "3.12.4"
  }
 },
 "nbformat": 4,
 "nbformat_minor": 5
}
