{
 "cells": [
  {
   "cell_type": "code",
   "execution_count": 12,
   "id": "271e56d8-8771-4c4f-bc32-17cb75ef378d",
   "metadata": {},
   "outputs": [],
   "source": [
    "from AllFunctions import multiplefunction"
   ]
  },
  {
   "cell_type": "code",
   "execution_count": 15,
   "id": "3871d113-2f30-411b-817d-aaf4a97cb9e0",
   "metadata": {},
   "outputs": [
    {
     "name": "stdout",
     "output_type": "stream",
     "text": [
      "Subfields in AI are:\n",
      "Machine learning\n",
      "Neural networks\n",
      "Vision\n",
      "Robotics\n",
      "Speech processing\n",
      "Natural Language processing\n"
     ]
    }
   ],
   "source": [
    "multiplefunction.subfields()"
   ]
  },
  {
   "cell_type": "code",
   "execution_count": 16,
   "id": "2fd26604-af12-49f7-9521-dd3601e14025",
   "metadata": {},
   "outputs": [
    {
     "name": "stdin",
     "output_type": "stream",
     "text": [
      "Enter the number: 52\n"
     ]
    },
    {
     "name": "stdout",
     "output_type": "stream",
     "text": [
      "52 is even number\n"
     ]
    }
   ],
   "source": [
    "multiplefunction.oddeven()"
   ]
  },
  {
   "cell_type": "code",
   "execution_count": 17,
   "id": "d4a57d58-78f0-4529-82c8-c5cef1f002ef",
   "metadata": {},
   "outputs": [
    {
     "name": "stdin",
     "output_type": "stream",
     "text": [
      "Enter your age: 25\n",
      "Enter your Gender (male/female):  female\n"
     ]
    },
    {
     "name": "stdout",
     "output_type": "stream",
     "text": [
      "Eligible\n"
     ]
    }
   ],
   "source": [
    "multiplefunction.eligible()"
   ]
  },
  {
   "cell_type": "code",
   "execution_count": 18,
   "id": "fee36bd6-8a0c-4c60-ab65-dc55d805ed89",
   "metadata": {},
   "outputs": [
    {
     "name": "stdin",
     "output_type": "stream",
     "text": [
      "Subject1: 85\n",
      "Subject2: 89\n",
      "Subject3: 93\n",
      "Subject4: 95\n",
      "Subject5: 87\n"
     ]
    },
    {
     "name": "stdout",
     "output_type": "stream",
     "text": [
      "Total: 449\n",
      "Percentage: 89.8\n"
     ]
    }
   ],
   "source": [
    "multiplefunction.markscored()"
   ]
  },
  {
   "cell_type": "code",
   "execution_count": 19,
   "id": "b834721d-0281-448e-b6fa-0ab8fb5ab717",
   "metadata": {},
   "outputs": [
    {
     "name": "stdin",
     "output_type": "stream",
     "text": [
      "Height 5\n",
      "Breadth 5\n"
     ]
    },
    {
     "name": "stdout",
     "output_type": "stream",
     "text": [
      "Area of the triangle: 12.5\n"
     ]
    },
    {
     "name": "stdin",
     "output_type": "stream",
     "text": [
      "Height1 8\n",
      "Height2 8\n",
      "Breadth 5\n"
     ]
    },
    {
     "name": "stdout",
     "output_type": "stream",
     "text": [
      "Perimeter of the triangle: 21\n"
     ]
    }
   ],
   "source": [
    "multiplefunction.triangle()"
   ]
  },
  {
   "cell_type": "code",
   "execution_count": null,
   "id": "a01c2fff-2387-4cc1-bb48-97dd27de88f9",
   "metadata": {},
   "outputs": [],
   "source": []
  }
 ],
 "metadata": {
  "kernelspec": {
   "display_name": "Python 3 (ipykernel)",
   "language": "python",
   "name": "python3"
  },
  "language_info": {
   "codemirror_mode": {
    "name": "ipython",
    "version": 3
   },
   "file_extension": ".py",
   "mimetype": "text/x-python",
   "name": "python",
   "nbconvert_exporter": "python",
   "pygments_lexer": "ipython3",
   "version": "3.12.4"
  }
 },
 "nbformat": 4,
 "nbformat_minor": 5
}
