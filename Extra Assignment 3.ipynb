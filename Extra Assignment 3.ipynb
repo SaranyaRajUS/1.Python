{
 "cells": [
  {
   "cell_type": "code",
   "execution_count": 15,
   "id": "60a0aa94-16c7-4ba8-af69-c4bc7127f199",
   "metadata": {},
   "outputs": [
    {
     "name": "stdin",
     "output_type": "stream",
     "text": [
      "Enter a value for i: 10\n"
     ]
    },
    {
     "name": "stdout",
     "output_type": "stream",
     "text": [
      "CORRECT\n"
     ]
    }
   ],
   "source": [
    "i=int(input(\"Enter a value for i:\"))\n",
    "if (i==10):\n",
    "    print(\"CORRECT\")\n",
    "else:\n",
    "    print(\"INCORRECT\")\n",
    "    "
   ]
  },
  {
   "cell_type": "code",
   "execution_count": 17,
   "id": "0f00af77-0492-41d3-a92f-f889f0539529",
   "metadata": {},
   "outputs": [
    {
     "name": "stdin",
     "output_type": "stream",
     "text": [
      "Enter the password: Hope@123\n"
     ]
    },
    {
     "name": "stdout",
     "output_type": "stream",
     "text": [
      "YOUR PASSWORD IS CORRECT\n"
     ]
    }
   ],
   "source": [
    "password=\"Hope@123\"\n",
    "name=str(input(\"Enter the password:\"))\n",
    "if(password==name):\n",
    "    print(\"YOUR PASSWORD IS CORRECT\")\n",
    "else:\n",
    "    print(\"YOUR PASSWORD IS WRONG\")"
   ]
  },
  {
   "cell_type": "code",
   "execution_count": null,
   "id": "80f319e9-4e00-42c4-8c4a-463b473d286d",
   "metadata": {},
   "outputs": [],
   "source": [
    "age=int(input(\"age\"))\n",
    "if(age<18):\n",
    "      print(\"CHILDREN\")\n",
    "else:\n",
    "    print(\"ADULT\")"
   ]
  },
  {
   "cell_type": "code",
   "execution_count": null,
   "id": "a0504094-f089-4723-91f5-abf4da8180f1",
   "metadata": {},
   "outputs": [],
   "source": [
    "number=int(input(\"Enter the number\"))\n",
    "if(number>0):\n",
    "      print(\"No is positive\")\n",
    "else:\n",
    "    print(\"No is negative\")"
   ]
  },
  {
   "cell_type": "code",
   "execution_count": null,
   "id": "6b1ec110-8f2a-4a14-9e8f-c2dc0964b41f",
   "metadata": {},
   "outputs": [],
   "source": [
    "number=int(input(\"Enter the number to check\"))\n",
    "if(number/5):\n",
    "      print(\"Number is divisible by 5\")\n",
    "else:\n",
    "    print(\"Number is not divisible by 5\")"
   ]
  },
  {
   "cell_type": "code",
   "execution_count": null,
   "id": "26fe7b6a-ab11-4220-a92b-12fa09cf51fa",
   "metadata": {},
   "outputs": [],
   "source": []
  }
 ],
 "metadata": {
  "kernelspec": {
   "display_name": "Python 3 (ipykernel)",
   "language": "python",
   "name": "python3"
  },
  "language_info": {
   "codemirror_mode": {
    "name": "ipython",
    "version": 3
   },
   "file_extension": ".py",
   "mimetype": "text/x-python",
   "name": "python",
   "nbconvert_exporter": "python",
   "pygments_lexer": "ipython3",
   "version": "3.12.4"
  }
 },
 "nbformat": 4,
 "nbformat_minor": 5
}
