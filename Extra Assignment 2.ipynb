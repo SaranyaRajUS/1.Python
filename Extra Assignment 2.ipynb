{
 "cells": [
  {
   "cell_type": "code",
   "execution_count": 167,
   "id": "0e2bf456-f0df-416a-a1c3-59116b1a2e17",
   "metadata": {},
   "outputs": [
    {
     "name": "stdout",
     "output_type": "stream",
     "text": [
      "0\n",
      "1\n",
      "2\n",
      "3\n",
      "4\n",
      "5\n",
      "6\n",
      "7\n",
      "8\n",
      "9\n",
      "10\n",
      "11\n",
      "12\n",
      "13\n",
      "14\n",
      "15\n",
      "16\n",
      "17\n",
      "18\n",
      "19\n"
     ]
    }
   ],
   "source": [
    "range(0,20)\n",
    "for num in range(0,20):\n",
    "    print(num)"
   ]
  },
  {
   "cell_type": "code",
   "execution_count": 188,
   "id": "5f41e9a6-99b9-4e5b-ba5e-e7b10a45dad0",
   "metadata": {},
   "outputs": [
    {
     "name": "stdout",
     "output_type": "stream",
     "text": [
      "10 11 12 13 14 15 16 17 18 19 "
     ]
    }
   ],
   "source": [
    "range(10,20)\n",
    "for num in range(10,20):\n",
    "    print(num,end=\" \")\n"
   ]
  },
  {
   "cell_type": "code",
   "execution_count": 59,
   "id": "58a72183-43b4-480c-ab66-470a11cfe1a6",
   "metadata": {},
   "outputs": [
    {
     "name": "stdout",
     "output_type": "stream",
     "text": [
      "20 is even\n",
      "10 is even\n",
      "16 is even\n",
      "19 is odd\n",
      "25 is odd\n",
      "1 is odd\n",
      "276 is even\n",
      "188 is even\n"
     ]
    }
   ],
   "source": [
    "lists=[20,10,16,19,25,1,276,188]\n",
    "for num in lists:\n",
    "    if (num % 2) == 0:\n",
    "         print(num,\"is even\")\n",
    "    else:\n",
    "         print(num,\"is odd\")"
   ]
  },
  {
   "cell_type": "code",
   "execution_count": 61,
   "id": "ee468b90-0e07-4212-8673-4a1dc29c7a9f",
   "metadata": {},
   "outputs": [
    {
     "name": "stdout",
     "output_type": "stream",
     "text": [
      "19 is odd\n",
      "25 is odd\n",
      "1 is odd\n"
     ]
    }
   ],
   "source": [
    "lists=[20,10,16,19,25,1,276,188]\n",
    "for num in lists:\n",
    "    if (num % 2) > 0:\n",
    "         print(num,\"is odd\")"
   ]
  },
  {
   "cell_type": "code",
   "execution_count": 72,
   "id": "876df233-5e96-4f5c-a887-7f50cf0857b7",
   "metadata": {},
   "outputs": [
    {
     "name": "stdout",
     "output_type": "stream",
     "text": [
      "((0, 1, 2, 3), 'python', 'Hope')\n"
     ]
    }
   ],
   "source": [
    "Tuple1=((0,1,2,3),)\n",
    "Tuple2=('python','Hope')\n",
    "Tuple=Tuple1+Tuple2\n",
    "print(Tuple)"
   ]
  },
  {
   "cell_type": "code",
   "execution_count": 71,
   "id": "58ca57e8-6088-429c-8fb8-5fe4572b4641",
   "metadata": {},
   "outputs": [
    {
     "name": "stdout",
     "output_type": "stream",
     "text": [
      "(1, 'Welcome', 2, 'Hope')\n"
     ]
    }
   ],
   "source": [
    "Tuple=(1, 'Welcome', 2, 'Hope')\n",
    "print(Tuple)"
   ]
  },
  {
   "cell_type": "code",
   "execution_count": 183,
   "id": "d3a7ed5b-daba-44d6-81fb-669c7a0c2cf2",
   "metadata": {},
   "outputs": [
    {
     "name": "stdout",
     "output_type": "stream",
     "text": [
      "Your name: Saranya\n",
      "Your age: 28\n",
      "Your profession: Manager\n"
     ]
    }
   ],
   "source": [
    "def info(name, age, profession):\n",
    "    list = [(\"Your name:\", name), (\"Your age:\", age), (\"Your profession:\", profession)]\n",
    "    for info, value in list:\n",
    "        print(info, value)\n",
    "info(\"Saranya\", 28, \"Manager\")"
   ]
  },
  {
   "cell_type": "code",
   "execution_count": 143,
   "id": "510d840f-ec84-4baf-b753-523841fc85a1",
   "metadata": {},
   "outputs": [
    {
     "name": "stdout",
     "output_type": "stream",
     "text": [
      "A\n",
      "R\n",
      "T\n",
      "I\n",
      "F\n",
      "I\n",
      "C\n",
      "I\n",
      "A\n",
      "L\n",
      " \n",
      "I\n",
      "N\n",
      "T\n",
      "E\n",
      "L\n",
      "L\n",
      "I\n",
      "G\n",
      "E\n",
      "N\n",
      "C\n",
      "E\n"
     ]
    }
   ],
   "source": [
    "text = \"ARTIFICIAL INTELLIGENCE\"\n",
    "for i in text:\n",
    "    print(i)"
   ]
  },
  {
   "cell_type": "code",
   "execution_count": 165,
   "id": "8f001170-f042-4dc4-9c61-31e4ca6c24bd",
   "metadata": {},
   "outputs": [
    {
     "name": "stdout",
     "output_type": "stream",
     "text": [
      "Number of items in the list:\n",
      "[10, 20, 14, 55, 43, 87, 76]\n"
     ]
    }
   ],
   "source": [
    "numbers = [10, 20, 14, 55, 43, 87, 76]\n",
    "print(\"Number of items in the list:\")\n",
    "print(numbers)"
   ]
  },
  {
   "cell_type": "code",
   "execution_count": null,
   "id": "f1a1ad07-5b9e-4672-9703-727397f8e22d",
   "metadata": {},
   "outputs": [],
   "source": []
  }
 ],
 "metadata": {
  "kernelspec": {
   "display_name": "Python 3 (ipykernel)",
   "language": "python",
   "name": "python3"
  },
  "language_info": {
   "codemirror_mode": {
    "name": "ipython",
    "version": 3
   },
   "file_extension": ".py",
   "mimetype": "text/x-python",
   "name": "python",
   "nbconvert_exporter": "python",
   "pygments_lexer": "ipython3",
   "version": "3.12.4"
  }
 },
 "nbformat": 4,
 "nbformat_minor": 5
}
