{
 "cells": [
  {
   "cell_type": "code",
   "execution_count": 4,
   "id": "b138da1a-cde6-4e55-a88f-49713c783712",
   "metadata": {},
   "outputs": [
    {
     "name": "stdout",
     "output_type": "stream",
     "text": [
      "Welcome to Assignment-1\n"
     ]
    }
   ],
   "source": [
    "print(\"Welcome to Assignment-1\")"
   ]
  },
  {
   "cell_type": "code",
   "execution_count": 24,
   "id": "c8ff3e94-fcf2-48f3-aacf-2e3ece9e50aa",
   "metadata": {},
   "outputs": [
    {
     "name": "stdout",
     "output_type": "stream",
     "text": [
      "Num1= 10\n",
      "Num2= 30\n",
      "Add= 40\n"
     ]
    }
   ],
   "source": [
    "num1=10\n",
    "num2=30\n",
    "add=(num1+num2)\n",
    "print(\"Num1=\",num1)\n",
    "print(\"Num2=\",num2)\n",
    "print(\"Add=\",add)"
   ]
  },
  {
   "cell_type": "code",
   "execution_count": 51,
   "id": "4e4d8d90-3ee3-4f69-87fc-f588bf9e7679",
   "metadata": {},
   "outputs": [
    {
     "name": "stdin",
     "output_type": "stream",
     "text": [
      "Enter the BMI index: 25\n"
     ]
    },
    {
     "name": "stdout",
     "output_type": "stream",
     "text": [
      "Overweight\n"
     ]
    }
   ],
   "source": [
    "BMI=int(input(\"Enter the BMI index:\"))\n",
    "if(BMI<16):\n",
    "      print(\"Severely Underweight\")\n",
    "elif(BMI<18.4):\n",
    "      print(\"Underweight\")\n",
    "elif(BMI<24.9):\n",
    "      print(\"Normal\")\n",
    "elif(BMI<29.9):\n",
    "      print(\"Overweight\") \n",
    "elif(BMI<34.9):\n",
    "      print(\"Moderately obese\") \n",
    "elif(BMI<39.9):\n",
    "      print(\"Severely obese\")\n",
    "else:\n",
    "      print(\"Morbidly obese\")"
   ]
  },
  {
   "cell_type": "code",
   "execution_count": null,
   "id": "282d6ea6-378f-4d7c-8fb0-c41e3937b33b",
   "metadata": {},
   "outputs": [],
   "source": []
  }
 ],
 "metadata": {
  "kernelspec": {
   "display_name": "Python 3 (ipykernel)",
   "language": "python",
   "name": "python3"
  },
  "language_info": {
   "codemirror_mode": {
    "name": "ipython",
    "version": 3
   },
   "file_extension": ".py",
   "mimetype": "text/x-python",
   "name": "python",
   "nbconvert_exporter": "python",
   "pygments_lexer": "ipython3",
   "version": "3.12.4"
  }
 },
 "nbformat": 4,
 "nbformat_minor": 5
}
